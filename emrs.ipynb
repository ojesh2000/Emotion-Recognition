{
 "cells": [
  {
   "cell_type": "code",
   "execution_count": 1,
   "id": "b62e46fb",
   "metadata": {
    "colab": {
     "base_uri": "https://localhost:8080/"
    },
    "id": "b62e46fb",
    "outputId": "fb1c5b48-dca5-47a9-a156-1282a72ecd92"
   },
   "outputs": [
    {
     "name": "stdout",
     "output_type": "stream",
     "text": [
      "Requirement already satisfied: mne in /Users/godachi/opt/anaconda3/envs/tensorflow/lib/python3.9/site-packages (1.2.3)\n",
      "Requirement already satisfied: numpy>=1.15.4 in /Users/godachi/opt/anaconda3/envs/tensorflow/lib/python3.9/site-packages (from mne) (1.22.3)\n",
      "Requirement already satisfied: matplotlib in /Users/godachi/opt/anaconda3/envs/tensorflow/lib/python3.9/site-packages (from mne) (3.5.3)\n",
      "Requirement already satisfied: scipy>=1.1.0 in /Users/godachi/opt/anaconda3/envs/tensorflow/lib/python3.9/site-packages (from mne) (1.7.3)\n",
      "Requirement already satisfied: decorator in /Users/godachi/opt/anaconda3/envs/tensorflow/lib/python3.9/site-packages (from mne) (5.1.1)\n",
      "Requirement already satisfied: jinja2 in /Users/godachi/opt/anaconda3/envs/tensorflow/lib/python3.9/site-packages (from mne) (3.1.2)\n",
      "Requirement already satisfied: packaging in /Users/godachi/opt/anaconda3/envs/tensorflow/lib/python3.9/site-packages (from mne) (21.3)\n",
      "Requirement already satisfied: tqdm in /Users/godachi/opt/anaconda3/envs/tensorflow/lib/python3.9/site-packages (from mne) (4.64.1)\n",
      "Requirement already satisfied: pooch>=1.5 in /Users/godachi/opt/anaconda3/envs/tensorflow/lib/python3.9/site-packages (from mne) (1.6.0)\n",
      "Requirement already satisfied: requests>=2.19.0 in /Users/godachi/opt/anaconda3/envs/tensorflow/lib/python3.9/site-packages (from pooch>=1.5->mne) (2.28.1)\n",
      "Requirement already satisfied: appdirs>=1.3.0 in /Users/godachi/opt/anaconda3/envs/tensorflow/lib/python3.9/site-packages (from pooch>=1.5->mne) (1.4.4)\n",
      "Requirement already satisfied: pyparsing!=3.0.5,>=2.0.2 in /Users/godachi/opt/anaconda3/envs/tensorflow/lib/python3.9/site-packages (from packaging->mne) (3.0.9)\n",
      "Requirement already satisfied: MarkupSafe>=2.0 in /Users/godachi/opt/anaconda3/envs/tensorflow/lib/python3.9/site-packages (from jinja2->mne) (2.1.1)\n",
      "Requirement already satisfied: python-dateutil>=2.7 in /Users/godachi/opt/anaconda3/envs/tensorflow/lib/python3.9/site-packages (from matplotlib->mne) (2.8.2)\n",
      "Requirement already satisfied: cycler>=0.10 in /Users/godachi/opt/anaconda3/envs/tensorflow/lib/python3.9/site-packages (from matplotlib->mne) (0.11.0)\n",
      "Requirement already satisfied: pillow>=6.2.0 in /Users/godachi/opt/anaconda3/envs/tensorflow/lib/python3.9/site-packages (from matplotlib->mne) (9.2.0)\n",
      "Requirement already satisfied: kiwisolver>=1.0.1 in /Users/godachi/opt/anaconda3/envs/tensorflow/lib/python3.9/site-packages (from matplotlib->mne) (1.4.2)\n",
      "Requirement already satisfied: fonttools>=4.22.0 in /Users/godachi/opt/anaconda3/envs/tensorflow/lib/python3.9/site-packages (from matplotlib->mne) (4.25.0)\n",
      "Requirement already satisfied: six>=1.5 in /Users/godachi/opt/anaconda3/envs/tensorflow/lib/python3.9/site-packages (from python-dateutil>=2.7->matplotlib->mne) (1.16.0)\n",
      "Requirement already satisfied: certifi>=2017.4.17 in /Users/godachi/opt/anaconda3/envs/tensorflow/lib/python3.9/site-packages (from requests>=2.19.0->pooch>=1.5->mne) (2022.9.24)\n",
      "Requirement already satisfied: charset-normalizer<3,>=2 in /Users/godachi/opt/anaconda3/envs/tensorflow/lib/python3.9/site-packages (from requests>=2.19.0->pooch>=1.5->mne) (2.0.4)\n",
      "Requirement already satisfied: urllib3<1.27,>=1.21.1 in /Users/godachi/opt/anaconda3/envs/tensorflow/lib/python3.9/site-packages (from requests>=2.19.0->pooch>=1.5->mne) (1.26.12)\n",
      "Requirement already satisfied: idna<4,>=2.5 in /Users/godachi/opt/anaconda3/envs/tensorflow/lib/python3.9/site-packages (from requests>=2.19.0->pooch>=1.5->mne) (3.4)\n",
      "Note: you may need to restart the kernel to use updated packages.\n"
     ]
    }
   ],
   "source": [
    "pip install mne"
   ]
  },
  {
   "cell_type": "code",
   "execution_count": 2,
   "id": "c7a16070",
   "metadata": {
    "id": "c7a16070"
   },
   "outputs": [],
   "source": [
    "import mne\n",
    "import os\n",
    "import csv\n",
    "import pickle\n",
    "import pandas as pd\n",
    "import numpy as np\n",
    "from sklearn.preprocessing import MinMaxScaler"
   ]
  },
  {
   "cell_type": "code",
   "execution_count": 3,
   "id": "d9a084f9",
   "metadata": {
    "id": "d9a084f9"
   },
   "outputs": [],
   "source": [
    "def read_eeg_signal_from_file(filename):\n",
    "    x = pickle._Unpickler(open(filename, 'rb'))\n",
    "    x.encoding = 'latin1'\n",
    "    p = x.load()\n",
    "    return p"
   ]
  },
  {
   "cell_type": "code",
   "execution_count": 4,
   "id": "78f18194",
   "metadata": {
    "id": "78f18194"
   },
   "outputs": [],
   "source": [
    "files = []\n",
    "for n in range(1, 21): \n",
    "    s = ''\n",
    "    if n < 10:\n",
    "        s += '0'\n",
    "    s += str(n)\n",
    "    files.append(s)\n"
   ]
  },
  {
   "cell_type": "code",
   "execution_count": 5,
   "id": "87db2c25",
   "metadata": {
    "id": "87db2c25"
   },
   "outputs": [],
   "source": [
    "labels = []\n",
    "data = []\n",
    "\n",
    "for i in files: \n",
    "  filename = \"Data/s\" + i + \".dat\"\n",
    "  trial = read_eeg_signal_from_file(filename)\n",
    "  labels.append(trial['labels'])\n",
    "  data.append(trial['data'])"
   ]
  },
  {
   "cell_type": "code",
   "execution_count": 6,
   "id": "079a74b7",
   "metadata": {
    "colab": {
     "base_uri": "https://localhost:8080/"
    },
    "id": "079a74b7",
    "outputId": "d34cc7bb-a160-4c99-c777-f5c63d9cca62"
   },
   "outputs": [
    {
     "name": "stdout",
     "output_type": "stream",
     "text": [
      "Labels:  (20, 40, 4)\n",
      "Data:  (20, 40, 40, 8064)\n"
     ]
    }
   ],
   "source": [
    "labels = np.array(labels)\n",
    "data = np.array(data)\n",
    "print(\"Labels: \", labels.shape) \n",
    "print(\"Data: \", data.shape) "
   ]
  },
  {
   "cell_type": "code",
   "execution_count": 7,
   "id": "bc2215b1",
   "metadata": {
    "colab": {
     "base_uri": "https://localhost:8080/"
    },
    "id": "bc2215b1",
    "outputId": "4255822d-dd2c-4a9d-fa64-730543198573"
   },
   "outputs": [
    {
     "name": "stdout",
     "output_type": "stream",
     "text": [
      "Labels:  (800, 4)\n",
      "Data:  (800, 40, 8064)\n"
     ]
    }
   ],
   "source": [
    "labels = np.array(labels)\n",
    "labels = labels.flatten()\n",
    "labels = labels.reshape(800, 4)\n",
    "data = np.array(data)\n",
    "data = data.flatten()\n",
    "data = data.reshape(800, 40, 8064)\n",
    "print(\"Labels: \", labels.shape) \n",
    "print(\"Data: \", data.shape) "
   ]
  },
  {
   "cell_type": "code",
   "execution_count": 8,
   "id": "b95aa165",
   "metadata": {
    "colab": {
     "base_uri": "https://localhost:8080/"
    },
    "id": "b95aa165",
    "outputId": "b442e275-5107-4cf2-85a6-833ba0088a3b"
   },
   "outputs": [
    {
     "data": {
      "text/plain": [
       "(800, 14, 8064)"
      ]
     },
     "execution_count": 8,
     "metadata": {},
     "output_type": "execute_result"
    }
   ],
   "source": [
    "eeg_data = []\n",
    "for i in range(len(data)):\n",
    "    for j in range(40):\n",
    "        if(j in [1 , 2 , 3 , 4 , 7 , 11 , 13 , 17 , 19 , 20 , 21 , 25 , 29 , 31]):\n",
    "            eeg_data.append(data[i][j])\n",
    "eeg_data = np.array(eeg_data)\n",
    "eeg_data = eeg_data.reshape(len(data) , 14 , len(data[0 , 0]))\n",
    "eeg_data.shape"
   ]
  },
  {
   "cell_type": "code",
   "execution_count": 9,
   "id": "6f0aaf87",
   "metadata": {
    "id": "6f0aaf87"
   },
   "outputs": [],
   "source": [
    "labels_enc = []\n",
    "for i in range(len(labels)):\n",
    "    cmp = (float)(5)\n",
    "    put = [(float)(0) , (float)(0)]\n",
    "    if(labels[i][0] > cmp):\n",
    "        put[0] = 1\n",
    "    if(labels[i][1] > cmp):\n",
    "        put[1] = 1\n",
    "    labels_enc.append(put)"
   ]
  },
  {
   "cell_type": "code",
   "execution_count": 10,
   "id": "6bdf8554",
   "metadata": {
    "id": "6bdf8554"
   },
   "outputs": [],
   "source": [
    "def get_raw_eeg(DATA):\n",
    "    ch_names = np.array([\"AF3\", \"F3\", \"F7\", \"FC5\", \"T7\", \"P7\", \"O1\", \"AF4\", \"F4\", \"F8\", \"FC6\", \"T8\", \"P8\", \"O2\"])\n",
    "    ch_types = ['eeg'] * 14\n",
    "    sampling_freq=128\n",
    "    info = mne.create_info(ch_names.tolist(), ch_types=ch_types, sfreq=sampling_freq)\n",
    "    info.set_montage('standard_1020')\n",
    "    raw_data = mne.io.RawArray(DATA, info)\n",
    "    raw_data.set_eeg_reference()\n",
    "    raw_data.filter(l_freq=1,h_freq=30)\n",
    "    epochs = mne.make_fixed_length_epochs(raw_data,duration=2,overlap=0)\n",
    "    return epochs.get_data()"
   ]
  },
  {
   "cell_type": "code",
   "execution_count": 11,
   "id": "6d1761fa",
   "metadata": {
    "id": "6d1761fa"
   },
   "outputs": [],
   "source": [
    "%%capture\n",
    "data_epochs_array = []\n",
    "for i in range(len(eeg_data)):\n",
    "    data_epochs_array.append(get_raw_eeg(eeg_data[i]))"
   ]
  },
  {
   "cell_type": "code",
   "execution_count": 12,
   "id": "dc3c2331",
   "metadata": {
    "colab": {
     "base_uri": "https://localhost:8080/"
    },
    "id": "dc3c2331",
    "outputId": "bc12def3-d42f-400e-ff2a-4267f3f29895"
   },
   "outputs": [
    {
     "data": {
      "text/plain": [
       "((31, 14, 256), (31, 14, 256))"
      ]
     },
     "execution_count": 12,
     "metadata": {},
     "output_type": "execute_result"
    }
   ],
   "source": [
    "data_epochs_array[0].shape , data_epochs_array[21].shape #2nd -> no. of epochs , 3rd -> channels , 4th -> length of signal"
   ]
  },
  {
   "cell_type": "code",
   "execution_count": 13,
   "id": "dd034f29",
   "metadata": {
    "id": "dd034f29"
   },
   "outputs": [],
   "source": [
    "def get_quadrant(l):\n",
    "    ret = np.zeros(4 , dtype = float)\n",
    "    idx = 0\n",
    "    if(l[0] == 1):\n",
    "        idx += 1\n",
    "    if(l[1] == 1):\n",
    "        idx += 2\n",
    "    ret[idx] = (float)(1)\n",
    "    return ret"
   ]
  },
  {
   "cell_type": "code",
   "execution_count": 14,
   "id": "858796b1",
   "metadata": {
    "colab": {
     "base_uri": "https://localhost:8080/"
    },
    "id": "858796b1",
    "outputId": "f9edbfb7-c12b-44a3-d1de-4e9b175d8350"
   },
   "outputs": [
    {
     "data": {
      "text/plain": [
       "(800, 31, 14, 256)"
      ]
     },
     "execution_count": 14,
     "metadata": {},
     "output_type": "execute_result"
    }
   ],
   "source": [
    "data_epochs_array = np.array(data_epochs_array)\n",
    "training_data = []\n",
    "#trial x epoch x channel x data_point\n",
    "for i in range(len(data_epochs_array)):\n",
    "    for j in range(31):\n",
    "        for k in range(14):\n",
    "            for w in range(256):\n",
    "                training_data.append([i , j , k , w , data_epochs_array[i][j][k][w]])\n",
    "        \n",
    "data_epochs_array.shape"
   ]
  },
  {
   "cell_type": "code",
   "execution_count": 15,
   "id": "bdac2b0c",
   "metadata": {},
   "outputs": [
    {
     "data": {
      "text/plain": [
       "(88883200, 5)"
      ]
     },
     "execution_count": 15,
     "metadata": {},
     "output_type": "execute_result"
    }
   ],
   "source": [
    "training_data = np.array(training_data)\n",
    "training_data.shape"
   ]
  },
  {
   "cell_type": "code",
   "execution_count": 16,
   "id": "cbee8e10",
   "metadata": {
    "colab": {
     "base_uri": "https://localhost:8080/"
    },
    "id": "cbee8e10",
    "outputId": "2c986dab-6ee7-4d2b-8c94-65dbfc255365"
   },
   "outputs": [
    {
     "data": {
      "text/plain": [
       "(800, 31, 14, 4)"
      ]
     },
     "execution_count": 16,
     "metadata": {},
     "output_type": "execute_result"
    }
   ],
   "source": [
    "label_epochs_array = []\n",
    "for i in range(len(eeg_data)):\n",
    "    put = []\n",
    "    for j in range(31):\n",
    "        p1 = []\n",
    "        for k in range(14):\n",
    "            p1.append(get_quadrant(labels_enc[i]))\n",
    "        put.append(p1)\n",
    "    label_epochs_array.append(put)\n",
    "label_epochs_array = np.array(label_epochs_array)\n",
    "label_epochs_array.shape"
   ]
  },
  {
   "cell_type": "code",
   "execution_count": 17,
   "id": "e97cb366",
   "metadata": {},
   "outputs": [
    {
     "data": {
      "text/plain": [
       "(88883200, 4)"
      ]
     },
     "execution_count": 17,
     "metadata": {},
     "output_type": "execute_result"
    }
   ],
   "source": [
    "training_labels = []\n",
    "for i in range(len(label_epochs_array)):\n",
    "    for j in range(31):\n",
    "        for k in range(14):\n",
    "            for w in range(256):\n",
    "                training_labels.append(label_epochs_array[i][j][k])\n",
    "            \n",
    "training_labels = np.array(training_labels)\n",
    "training_labels.shape"
   ]
  },
  {
   "cell_type": "code",
   "execution_count": 19,
   "id": "7e5b1e13",
   "metadata": {
    "id": "7e5b1e13"
   },
   "outputs": [],
   "source": [
    "from sklearn.model_selection import train_test_split\n",
    "def train_val_test(x , y):\n",
    "    x_train, x_b, y_train, y_b = train_test_split(x,y , random_state=0, train_size = .6)\n",
    "    x_val , x_test , y_val , y_test = train_test_split(x_b , y_b , random_state = 0 , train_size = 0.5)\n",
    "    return x_train , x_val , x_test , y_train , y_val , y_test\n",
    "    \n",
    "    "
   ]
  },
  {
   "cell_type": "code",
   "execution_count": 20,
   "id": "410f7beb",
   "metadata": {
    "id": "410f7beb"
   },
   "outputs": [],
   "source": [
    "x_train , x_val , x_test , y_train , y_val , y_test = train_val_test(training_data , training_labels)"
   ]
  },
  {
   "cell_type": "code",
   "execution_count": 21,
   "id": "e51d54b3",
   "metadata": {
    "colab": {
     "base_uri": "https://localhost:8080/"
    },
    "id": "e51d54b3",
    "outputId": "08bf02e7-fd0d-41cd-ec5f-a041e24b98ef"
   },
   "outputs": [
    {
     "data": {
      "text/plain": [
       "((53329920, 5), (53329920, 4))"
      ]
     },
     "execution_count": 21,
     "metadata": {},
     "output_type": "execute_result"
    }
   ],
   "source": [
    "x_train.shape , y_train.shape"
   ]
  },
  {
   "cell_type": "code",
   "execution_count": 22,
   "id": "95a11033",
   "metadata": {
    "colab": {
     "base_uri": "https://localhost:8080/"
    },
    "id": "95a11033",
    "outputId": "a75c45f4-042e-4b92-f6f4-7804d828a845"
   },
   "outputs": [
    {
     "data": {
      "text/plain": [
       "((17776640, 5), (17776640, 4))"
      ]
     },
     "execution_count": 22,
     "metadata": {},
     "output_type": "execute_result"
    }
   ],
   "source": [
    "x_val.shape , y_val.shape"
   ]
  },
  {
   "cell_type": "code",
   "execution_count": 23,
   "id": "351a0adf",
   "metadata": {
    "colab": {
     "base_uri": "https://localhost:8080/"
    },
    "id": "351a0adf",
    "outputId": "47f916df-fad2-4456-f190-f0e715cb63ec"
   },
   "outputs": [
    {
     "data": {
      "text/plain": [
       "((17776640, 5), (17776640, 4))"
      ]
     },
     "execution_count": 23,
     "metadata": {},
     "output_type": "execute_result"
    }
   ],
   "source": [
    "x_test.shape , y_test.shape"
   ]
  },
  {
   "cell_type": "code",
   "execution_count": 24,
   "id": "bc15dc41",
   "metadata": {
    "id": "bc15dc41"
   },
   "outputs": [],
   "source": [
    "from numpy import asarray\n",
    "from sklearn.preprocessing import MinMaxScaler\n",
    "\n",
    "to_scale = asarray(x_train)\n",
    "scaler = MinMaxScaler()\n",
    "# transform data\n",
    "x_1s_train = scaler.fit_transform(x_train)\n",
    "x_1s_val = scaler.transform(x_val)\n",
    "x_1s_test = scaler.transform(x_test)"
   ]
  },
  {
   "cell_type": "code",
   "execution_count": 25,
   "id": "63dc89a7",
   "metadata": {
    "id": "63dc89a7"
   },
   "outputs": [],
   "source": [
    "from sklearn.preprocessing import StandardScaler\n",
    "\n",
    "scaler = StandardScaler()\n",
    "x_s_train = scaler.fit_transform(x_1s_train)\n",
    "x_s_val = scaler.transform(x_1s_val)\n",
    "x_s_test = scaler.transform(x_1s_test)"
   ]
  },
  {
   "cell_type": "code",
   "execution_count": 26,
   "id": "42e2014e",
   "metadata": {
    "id": "42e2014e"
   },
   "outputs": [],
   "source": [
    "x_s_train = x_s_train.reshape(53329920, 5 , 1)"
   ]
  },
  {
   "cell_type": "code",
   "execution_count": 27,
   "id": "8de9e940",
   "metadata": {
    "id": "8de9e940"
   },
   "outputs": [],
   "source": [
    "x_s_val = x_s_val.reshape(17776640, 5 , 1)"
   ]
  },
  {
   "cell_type": "code",
   "execution_count": 28,
   "id": "4121d6d3",
   "metadata": {
    "id": "4121d6d3"
   },
   "outputs": [],
   "source": [
    "x_s_test = x_s_test.reshape(17776640, 5 , 1)"
   ]
  },
  {
   "cell_type": "code",
   "execution_count": 29,
   "id": "a1bd72da",
   "metadata": {
    "id": "a1bd72da"
   },
   "outputs": [],
   "source": [
    "from tensorflow.keras.layers import Input,Dense,concatenate,Flatten,LSTM,Conv1D,MaxPooling1D , Dropout , GRU\n",
    "from tensorflow.keras.models import Model , Sequential"
   ]
  },
  {
   "cell_type": "code",
   "execution_count": 30,
   "id": "168d6cf3",
   "metadata": {
    "id": "168d6cf3"
   },
   "outputs": [],
   "source": [
    "def block(input):\n",
    "  conv1 = Conv1D(32, 2, strides=2,activation='relu',padding=\"same\")(input)\n",
    "  conv2 = Conv1D(32, 4, strides=2,activation='relu',padding=\"causal\")(input)\n",
    "  conv3 = Conv1D(32, 8, strides=2,activation='relu',padding=\"causal\")(input)\n",
    "  x = concatenate([conv1,conv2,conv3],axis=2)\n",
    "  return x"
   ]
  },
  {
   "cell_type": "code",
   "execution_count": 31,
   "id": "49a53bb5",
   "metadata": {
    "id": "49a53bb5"
   },
   "outputs": [
    {
     "name": "stderr",
     "output_type": "stream",
     "text": [
      "2022-12-14 19:52:14.954046: I tensorflow/core/platform/cpu_feature_guard.cc:193] This TensorFlow binary is optimized with oneAPI Deep Neural Network Library (oneDNN) to use the following CPU instructions in performance-critical operations:  SSE4.1 SSE4.2\n",
      "To enable them in other operations, rebuild TensorFlow with the appropriate compiler flags.\n"
     ]
    }
   ],
   "source": [
    "input= Input(shape=(5 , 1))\n",
    "block1=block(input)\n",
    "block2=block(block1)\n",
    "block3=block(block2)\n"
   ]
  },
  {
   "cell_type": "code",
   "execution_count": 32,
   "id": "2eae18b5",
   "metadata": {
    "id": "2eae18b5"
   },
   "outputs": [],
   "source": [
    "gru_out1 = GRU(32,activation='tanh',return_sequences=True)(block3)\n",
    "gru_out2 = GRU(32,activation='tanh',return_sequences=True)(gru_out1)\n",
    "gru_out = concatenate([gru_out1,gru_out2],axis=2)\n",
    "gru_out3 = GRU(32,activation='tanh',return_sequences=True)(gru_out)\n",
    "gru_out = concatenate([gru_out1,gru_out2,gru_out3])\n",
    "gru_out4 = GRU(32,activation='tanh')(gru_out)"
   ]
  },
  {
   "cell_type": "code",
   "execution_count": 33,
   "id": "b9c9e7da",
   "metadata": {
    "id": "b9c9e7da"
   },
   "outputs": [],
   "source": [
    "predictions = Dense(1,activation='sigmoid')(gru_out4)\n",
    "model = Model(inputs=input, outputs=predictions)\n",
    "\n",
    "model.compile(optimizer = 'adam', loss = 'binary_crossentropy', metrics=['accuracy'])"
   ]
  },
  {
   "cell_type": "code",
   "execution_count": 34,
   "id": "3e22cd02",
   "metadata": {
    "colab": {
     "base_uri": "https://localhost:8080/"
    },
    "id": "3e22cd02",
    "outputId": "16f87d51-fbbf-4d37-9487-d8846ea3d5c8"
   },
   "outputs": [
    {
     "name": "stdout",
     "output_type": "stream",
     "text": [
      "Model: \"model\"\n",
      "__________________________________________________________________________________________________\n",
      " Layer (type)                   Output Shape         Param #     Connected to                     \n",
      "==================================================================================================\n",
      " input_1 (InputLayer)           [(None, 5, 1)]       0           []                               \n",
      "                                                                                                  \n",
      " conv1d (Conv1D)                (None, 3, 32)        96          ['input_1[0][0]']                \n",
      "                                                                                                  \n",
      " conv1d_1 (Conv1D)              (None, 3, 32)        160         ['input_1[0][0]']                \n",
      "                                                                                                  \n",
      " conv1d_2 (Conv1D)              (None, 3, 32)        288         ['input_1[0][0]']                \n",
      "                                                                                                  \n",
      " concatenate (Concatenate)      (None, 3, 96)        0           ['conv1d[0][0]',                 \n",
      "                                                                  'conv1d_1[0][0]',               \n",
      "                                                                  'conv1d_2[0][0]']               \n",
      "                                                                                                  \n",
      " conv1d_3 (Conv1D)              (None, 2, 32)        6176        ['concatenate[0][0]']            \n",
      "                                                                                                  \n",
      " conv1d_4 (Conv1D)              (None, 2, 32)        12320       ['concatenate[0][0]']            \n",
      "                                                                                                  \n",
      " conv1d_5 (Conv1D)              (None, 2, 32)        24608       ['concatenate[0][0]']            \n",
      "                                                                                                  \n",
      " concatenate_1 (Concatenate)    (None, 2, 96)        0           ['conv1d_3[0][0]',               \n",
      "                                                                  'conv1d_4[0][0]',               \n",
      "                                                                  'conv1d_5[0][0]']               \n",
      "                                                                                                  \n",
      " conv1d_6 (Conv1D)              (None, 1, 32)        6176        ['concatenate_1[0][0]']          \n",
      "                                                                                                  \n",
      " conv1d_7 (Conv1D)              (None, 1, 32)        12320       ['concatenate_1[0][0]']          \n",
      "                                                                                                  \n",
      " conv1d_8 (Conv1D)              (None, 1, 32)        24608       ['concatenate_1[0][0]']          \n",
      "                                                                                                  \n",
      " concatenate_2 (Concatenate)    (None, 1, 96)        0           ['conv1d_6[0][0]',               \n",
      "                                                                  'conv1d_7[0][0]',               \n",
      "                                                                  'conv1d_8[0][0]']               \n",
      "                                                                                                  \n",
      " gru (GRU)                      (None, 1, 32)        12480       ['concatenate_2[0][0]']          \n",
      "                                                                                                  \n",
      " gru_1 (GRU)                    (None, 1, 32)        6336        ['gru[0][0]']                    \n",
      "                                                                                                  \n",
      " concatenate_3 (Concatenate)    (None, 1, 64)        0           ['gru[0][0]',                    \n",
      "                                                                  'gru_1[0][0]']                  \n",
      "                                                                                                  \n",
      " gru_2 (GRU)                    (None, 1, 32)        9408        ['concatenate_3[0][0]']          \n",
      "                                                                                                  \n",
      " concatenate_4 (Concatenate)    (None, 1, 96)        0           ['gru[0][0]',                    \n",
      "                                                                  'gru_1[0][0]',                  \n",
      "                                                                  'gru_2[0][0]']                  \n",
      "                                                                                                  \n",
      " gru_3 (GRU)                    (None, 32)           12480       ['concatenate_4[0][0]']          \n",
      "                                                                                                  \n",
      " dense (Dense)                  (None, 1)            33          ['gru_3[0][0]']                  \n",
      "                                                                                                  \n",
      "==================================================================================================\n",
      "Total params: 127,489\n",
      "Trainable params: 127,489\n",
      "Non-trainable params: 0\n",
      "__________________________________________________________________________________________________\n"
     ]
    }
   ],
   "source": [
    "model.summary()"
   ]
  },
  {
   "cell_type": "code",
   "execution_count": 41,
   "id": "7cbfa9f4",
   "metadata": {
    "colab": {
     "base_uri": "https://localhost:8080/"
    },
    "id": "7cbfa9f4",
    "outputId": "331c0707-cd0a-438a-e5c9-2ddcfa51c392"
   },
   "outputs": [
    {
     "name": "stdout",
     "output_type": "stream",
     "text": [
      "208320/208320 [==============================] - 2784s 13ms/step - loss: 0.2793 - accuracy: 0.8713 - val_loss: 0.2834 - val_accuracy: 0.8674\n"
     ]
    },
    {
     "data": {
      "text/plain": [
       "<keras.callbacks.History at 0x7fd400403c40>"
      ]
     },
     "execution_count": 41,
     "metadata": {},
     "output_type": "execute_result"
    }
   ],
   "source": [
    "model.fit(x_s_train , y_train[: , 0] , epochs = 1 , batch_size = 256 , validation_data=(x_s_val , y_val[: , 0]))"
   ]
  },
  {
   "cell_type": "code",
   "execution_count": 42,
   "id": "51550f37",
   "metadata": {
    "colab": {
     "base_uri": "https://localhost:8080/"
    },
    "id": "51550f37",
    "outputId": "d5948343-ce72-4ee8-d65e-baf279dbb2a3"
   },
   "outputs": [
    {
     "name": "stdout",
     "output_type": "stream",
     "text": [
      "69440/69440 [==============================] - 197s 3ms/step - loss: 0.2834 - accuracy: 0.8674\n",
      "test loss, test acc: [0.283426433801651, 0.8674381375312805]\n"
     ]
    }
   ],
   "source": [
    "results = model.evaluate(x_s_test, y_test[: , 0], batch_size = 256)\n",
    "print(\"test loss, test acc:\", results)"
   ]
  },
  {
   "cell_type": "code",
   "execution_count": 39,
   "id": "62ca0d10",
   "metadata": {
    "colab": {
     "base_uri": "https://localhost:8080/"
    },
    "id": "62ca0d10",
    "outputId": "06dda351-dca0-4e80-dc94-ffb6db1cca2a"
   },
   "outputs": [
    {
     "name": "stdout",
     "output_type": "stream",
     "text": [
      "208320/208320 [==============================] - 2248s 11ms/step - loss: 0.2531 - accuracy: 0.8895 - val_loss: 0.2103 - val_accuracy: 0.9045\n"
     ]
    },
    {
     "data": {
      "text/plain": [
       "<keras.callbacks.History at 0x7fd4112a82e0>"
      ]
     },
     "execution_count": 39,
     "metadata": {},
     "output_type": "execute_result"
    }
   ],
   "source": [
    "model.fit(x_s_train , y_train[: , 1] , epochs = 1 , batch_size = 256 , validation_data=(x_s_val , y_val[: , 1]))"
   ]
  },
  {
   "cell_type": "code",
   "execution_count": 40,
   "id": "4b60eed2",
   "metadata": {
    "colab": {
     "base_uri": "https://localhost:8080/"
    },
    "id": "4b60eed2",
    "outputId": "bd96bea2-0ff6-4375-f1f3-d35f476fb9c4"
   },
   "outputs": [
    {
     "name": "stdout",
     "output_type": "stream",
     "text": [
      "69440/69440 [==============================] - 216s 3ms/step - loss: 0.2102 - accuracy: 0.9046\n",
      "test loss, test acc: [0.21015439927577972, 0.9046063423156738]\n"
     ]
    }
   ],
   "source": [
    "results = model.evaluate(x_s_test, y_test[: , 1], batch_size = 256)\n",
    "print(\"test loss, test acc:\", results)"
   ]
  },
  {
   "cell_type": "code",
   "execution_count": 35,
   "id": "7fef897b",
   "metadata": {
    "colab": {
     "base_uri": "https://localhost:8080/"
    },
    "id": "7fef897b",
    "outputId": "88a62243-96f1-49a6-81c2-468ea2593f5a"
   },
   "outputs": [
    {
     "name": "stdout",
     "output_type": "stream",
     "text": [
      "Epoch 1/2\n",
      "208320/208320 [==============================] - 4333s 21ms/step - loss: 0.2268 - accuracy: 0.8980 - val_loss: 0.3411 - val_accuracy: 0.8664\n",
      "Epoch 2/2\n",
      "208320/208320 [==============================] - 2200s 11ms/step - loss: 0.1908 - accuracy: 0.9157 - val_loss: 0.1368 - val_accuracy: 0.9401\n"
     ]
    },
    {
     "data": {
      "text/plain": [
       "<keras.callbacks.History at 0x7fd1a8b26df0>"
      ]
     },
     "execution_count": 35,
     "metadata": {},
     "output_type": "execute_result"
    }
   ],
   "source": [
    "model.fit(x_s_train , y_train[: , 2] , epochs=2 , batch_size = 256 , validation_data=(x_s_val , y_val[: , 2]))"
   ]
  },
  {
   "cell_type": "code",
   "execution_count": 36,
   "id": "23cb3794",
   "metadata": {
    "colab": {
     "base_uri": "https://localhost:8080/"
    },
    "id": "23cb3794",
    "outputId": "7c1d41a7-60fb-42a6-efa7-d9efe02ddcdd"
   },
   "outputs": [
    {
     "name": "stdout",
     "output_type": "stream",
     "text": [
      "69440/69440 [==============================] - 194s 3ms/step - loss: 0.1369 - accuracy: 0.9401\n",
      "test loss, test acc: [0.13691455125808716, 0.9400691986083984]\n"
     ]
    }
   ],
   "source": [
    "results = model.evaluate(x_s_test, y_test[: , 2], batch_size = 256)\n",
    "print(\"test loss, test acc:\", results)"
   ]
  },
  {
   "cell_type": "code",
   "execution_count": 37,
   "id": "ee11aa2f",
   "metadata": {
    "colab": {
     "base_uri": "https://localhost:8080/"
    },
    "id": "ee11aa2f",
    "outputId": "a1645b37-361d-4a76-ca34-79a7b159e0f1"
   },
   "outputs": [
    {
     "name": "stdout",
     "output_type": "stream",
     "text": [
      "Epoch 1/2\n",
      "208320/208320 [==============================] - 1938s 9ms/step - loss: 0.2305 - accuracy: 0.8950 - val_loss: 0.1951 - val_accuracy: 0.9089\n",
      "Epoch 2/2\n",
      "208320/208320 [==============================] - 2611s 13ms/step - loss: 0.2338 - accuracy: 0.8894 - val_loss: 0.2022 - val_accuracy: 0.8986\n"
     ]
    },
    {
     "data": {
      "text/plain": [
       "<keras.callbacks.History at 0x7fd4003b7d60>"
      ]
     },
     "execution_count": 37,
     "metadata": {},
     "output_type": "execute_result"
    }
   ],
   "source": [
    "model.fit(x_s_train , y_train[: , 3] , epochs = 2 , batch_size = 256 , validation_data=(x_s_val , y_val[: , 3]))"
   ]
  },
  {
   "cell_type": "code",
   "execution_count": 38,
   "id": "370dc18f",
   "metadata": {
    "colab": {
     "base_uri": "https://localhost:8080/"
    },
    "id": "370dc18f",
    "outputId": "4af2a6e3-35b7-4ab0-ad02-d57794cd241b"
   },
   "outputs": [
    {
     "name": "stdout",
     "output_type": "stream",
     "text": [
      "69440/69440 [==============================] - 210s 3ms/step - loss: 0.2021 - accuracy: 0.8987\n",
      "test loss, test acc: [0.20206302404403687, 0.8987424373626709]\n"
     ]
    }
   ],
   "source": [
    "results = model.evaluate(x_s_test, y_test[: , 3], batch_size = 256)\n",
    "print(\"test loss, test acc:\", results)"
   ]
  }
 ],
 "metadata": {
  "accelerator": "GPU",
  "colab": {
   "provenance": []
  },
  "gpuClass": "standard",
  "kernelspec": {
   "display_name": "Python 3 (ipykernel)",
   "language": "python",
   "name": "python3"
  },
  "language_info": {
   "codemirror_mode": {
    "name": "ipython",
    "version": 3
   },
   "file_extension": ".py",
   "mimetype": "text/x-python",
   "name": "python",
   "nbconvert_exporter": "python",
   "pygments_lexer": "ipython3",
   "version": "3.9.15"
  }
 },
 "nbformat": 4,
 "nbformat_minor": 5
}
