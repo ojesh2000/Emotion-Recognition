{
 "cells": [
  {
   "cell_type": "code",
   "execution_count": 46,
   "id": "b62e46fb",
   "metadata": {},
   "outputs": [
    {
     "name": "stdout",
     "output_type": "stream",
     "text": [
      "Requirement already satisfied: mne in /Users/godachi/opt/anaconda3/envs/tensorflow/lib/python3.9/site-packages (1.2.3)\n",
      "Requirement already satisfied: numpy>=1.15.4 in /Users/godachi/opt/anaconda3/envs/tensorflow/lib/python3.9/site-packages (from mne) (1.22.3)\n",
      "Requirement already satisfied: scipy>=1.1.0 in /Users/godachi/opt/anaconda3/envs/tensorflow/lib/python3.9/site-packages (from mne) (1.7.3)\n",
      "Requirement already satisfied: packaging in /Users/godachi/opt/anaconda3/envs/tensorflow/lib/python3.9/site-packages (from mne) (21.3)\n",
      "Requirement already satisfied: matplotlib in /Users/godachi/opt/anaconda3/envs/tensorflow/lib/python3.9/site-packages (from mne) (3.5.3)\n",
      "Requirement already satisfied: pooch>=1.5 in /Users/godachi/opt/anaconda3/envs/tensorflow/lib/python3.9/site-packages (from mne) (1.6.0)\n",
      "Requirement already satisfied: jinja2 in /Users/godachi/opt/anaconda3/envs/tensorflow/lib/python3.9/site-packages (from mne) (3.1.2)\n",
      "Requirement already satisfied: tqdm in /Users/godachi/opt/anaconda3/envs/tensorflow/lib/python3.9/site-packages (from mne) (4.64.1)\n",
      "Requirement already satisfied: decorator in /Users/godachi/opt/anaconda3/envs/tensorflow/lib/python3.9/site-packages (from mne) (5.1.1)\n",
      "Requirement already satisfied: appdirs>=1.3.0 in /Users/godachi/opt/anaconda3/envs/tensorflow/lib/python3.9/site-packages (from pooch>=1.5->mne) (1.4.4)\n",
      "Requirement already satisfied: requests>=2.19.0 in /Users/godachi/opt/anaconda3/envs/tensorflow/lib/python3.9/site-packages (from pooch>=1.5->mne) (2.28.1)\n",
      "Requirement already satisfied: pyparsing!=3.0.5,>=2.0.2 in /Users/godachi/opt/anaconda3/envs/tensorflow/lib/python3.9/site-packages (from packaging->mne) (3.0.9)\n",
      "Requirement already satisfied: MarkupSafe>=2.0 in /Users/godachi/opt/anaconda3/envs/tensorflow/lib/python3.9/site-packages (from jinja2->mne) (2.1.1)\n",
      "Requirement already satisfied: pillow>=6.2.0 in /Users/godachi/opt/anaconda3/envs/tensorflow/lib/python3.9/site-packages (from matplotlib->mne) (9.2.0)\n",
      "Requirement already satisfied: fonttools>=4.22.0 in /Users/godachi/opt/anaconda3/envs/tensorflow/lib/python3.9/site-packages (from matplotlib->mne) (4.25.0)\n",
      "Requirement already satisfied: cycler>=0.10 in /Users/godachi/opt/anaconda3/envs/tensorflow/lib/python3.9/site-packages (from matplotlib->mne) (0.11.0)\n",
      "Requirement already satisfied: kiwisolver>=1.0.1 in /Users/godachi/opt/anaconda3/envs/tensorflow/lib/python3.9/site-packages (from matplotlib->mne) (1.4.2)\n",
      "Requirement already satisfied: python-dateutil>=2.7 in /Users/godachi/opt/anaconda3/envs/tensorflow/lib/python3.9/site-packages (from matplotlib->mne) (2.8.2)\n",
      "Requirement already satisfied: six>=1.5 in /Users/godachi/opt/anaconda3/envs/tensorflow/lib/python3.9/site-packages (from python-dateutil>=2.7->matplotlib->mne) (1.16.0)\n",
      "Requirement already satisfied: urllib3<1.27,>=1.21.1 in /Users/godachi/opt/anaconda3/envs/tensorflow/lib/python3.9/site-packages (from requests>=2.19.0->pooch>=1.5->mne) (1.26.12)\n",
      "Requirement already satisfied: charset-normalizer<3,>=2 in /Users/godachi/opt/anaconda3/envs/tensorflow/lib/python3.9/site-packages (from requests>=2.19.0->pooch>=1.5->mne) (2.0.4)\n",
      "Requirement already satisfied: idna<4,>=2.5 in /Users/godachi/opt/anaconda3/envs/tensorflow/lib/python3.9/site-packages (from requests>=2.19.0->pooch>=1.5->mne) (3.4)\n",
      "Requirement already satisfied: certifi>=2017.4.17 in /Users/godachi/opt/anaconda3/envs/tensorflow/lib/python3.9/site-packages (from requests>=2.19.0->pooch>=1.5->mne) (2022.9.24)\n",
      "Note: you may need to restart the kernel to use updated packages.\n"
     ]
    }
   ],
   "source": [
    "pip install mne"
   ]
  },
  {
   "cell_type": "code",
   "execution_count": 47,
   "id": "c7a16070",
   "metadata": {},
   "outputs": [],
   "source": [
    "import mne\n",
    "import os\n",
    "import csv\n",
    "import pickle\n",
    "import pandas as pd\n",
    "import numpy as np\n",
    "from sklearn.preprocessing import MinMaxScaler"
   ]
  },
  {
   "cell_type": "code",
   "execution_count": null,
   "id": "dc272eb5",
   "metadata": {},
   "outputs": [],
   "source": []
  },
  {
   "cell_type": "code",
   "execution_count": 48,
   "id": "d9a084f9",
   "metadata": {},
   "outputs": [],
   "source": [
    "def read_eeg_signal_from_file(filename):\n",
    "    x = pickle._Unpickler(open(filename, 'rb'))\n",
    "    x.encoding = 'latin1'\n",
    "    p = x.load()\n",
    "    return p"
   ]
  },
  {
   "cell_type": "code",
   "execution_count": 49,
   "id": "78f18194",
   "metadata": {},
   "outputs": [],
   "source": [
    "files = []\n",
    "for n in range(1, 21): \n",
    "    s = ''\n",
    "    if n < 10:\n",
    "        s += '0'\n",
    "    s += str(n)\n",
    "    files.append(s)\n"
   ]
  },
  {
   "cell_type": "code",
   "execution_count": 50,
   "id": "87db2c25",
   "metadata": {},
   "outputs": [],
   "source": [
    "labels = []\n",
    "data = []\n",
    "\n",
    "for i in files: \n",
    "  filename = \"Data/s\" + i + \".dat\"\n",
    "  trial = read_eeg_signal_from_file(filename)\n",
    "  labels.append(trial['labels'])\n",
    "  data.append(trial['data'])"
   ]
  },
  {
   "cell_type": "code",
   "execution_count": 51,
   "id": "079a74b7",
   "metadata": {},
   "outputs": [
    {
     "name": "stdout",
     "output_type": "stream",
     "text": [
      "Labels:  (20, 40, 4)\n",
      "Data:  (20, 40, 40, 8064)\n"
     ]
    }
   ],
   "source": [
    "labels = np.array(labels)\n",
    "data = np.array(data)\n",
    "print(\"Labels: \", labels.shape) \n",
    "print(\"Data: \", data.shape) "
   ]
  },
  {
   "cell_type": "code",
   "execution_count": null,
   "id": "2c72281d",
   "metadata": {},
   "outputs": [],
   "source": []
  },
  {
   "cell_type": "code",
   "execution_count": 52,
   "id": "bc2215b1",
   "metadata": {},
   "outputs": [
    {
     "name": "stdout",
     "output_type": "stream",
     "text": [
      "Labels:  (800, 4)\n",
      "Data:  (800, 40, 8064)\n"
     ]
    }
   ],
   "source": [
    "labels = np.array(labels)\n",
    "labels = labels.flatten()\n",
    "labels = labels.reshape(800, 4)\n",
    "data = np.array(data)\n",
    "data = data.flatten()\n",
    "data = data.reshape(800, 40, 8064)\n",
    "print(\"Labels: \", labels.shape) \n",
    "print(\"Data: \", data.shape) "
   ]
  },
  {
   "cell_type": "code",
   "execution_count": 53,
   "id": "b95aa165",
   "metadata": {},
   "outputs": [
    {
     "data": {
      "text/plain": [
       "(800, 14, 8064)"
      ]
     },
     "execution_count": 53,
     "metadata": {},
     "output_type": "execute_result"
    }
   ],
   "source": [
    "eeg_data = []\n",
    "for i in range(len(data)):\n",
    "    for j in range(40):\n",
    "        if(j in [1 , 2 , 3 , 4 , 7 , 11 , 13 , 17 , 19 , 20 , 21 , 25 , 29 , 31]):\n",
    "            eeg_data.append(data[i][j])\n",
    "eeg_data = np.array(eeg_data)\n",
    "eeg_data = eeg_data.reshape(len(data) , 14 , len(data[0 , 0]))\n",
    "eeg_data.shape"
   ]
  },
  {
   "cell_type": "code",
   "execution_count": 54,
   "id": "6f0aaf87",
   "metadata": {},
   "outputs": [],
   "source": [
    "labels_enc = []\n",
    "for i in range(len(labels)):\n",
    "    cmp = (float)(5)\n",
    "    put = [(float)(0) , (float)(0)]\n",
    "    if(labels[i][0] > cmp):\n",
    "        put[0] = 1\n",
    "    if(labels[i][1] > cmp):\n",
    "        put[1] = 1\n",
    "    labels_enc.append(put)"
   ]
  },
  {
   "cell_type": "code",
   "execution_count": 55,
   "id": "6bdf8554",
   "metadata": {},
   "outputs": [],
   "source": [
    "def get_raw_eeg(DATA):\n",
    "    ch_names = np.array([\"AF3\", \"F3\", \"F7\", \"FC5\", \"T7\", \"P7\", \"O1\", \"AF4\", \"F4\", \"F8\", \"FC6\", \"T8\", \"P8\", \"O2\"])\n",
    "    ch_types = ['eeg'] * 14\n",
    "    sampling_freq=128\n",
    "    info = mne.create_info(ch_names.tolist(), ch_types=ch_types, sfreq=sampling_freq)\n",
    "    info.set_montage('standard_1020')\n",
    "    raw_data = mne.io.RawArray(DATA, info)\n",
    "    raw_data.set_eeg_reference()\n",
    "    raw_data.filter(l_freq=1,h_freq=30)\n",
    "    epochs = mne.make_fixed_length_epochs(raw_data,duration=2,overlap=0)\n",
    "    return epochs.get_data()"
   ]
  },
  {
   "cell_type": "code",
   "execution_count": 56,
   "id": "6d1761fa",
   "metadata": {},
   "outputs": [],
   "source": [
    "%%capture\n",
    "data_epochs_array = []\n",
    "for i in range(len(eeg_data)):\n",
    "    data_epochs_array.append(get_raw_eeg(eeg_data[i]))"
   ]
  },
  {
   "cell_type": "code",
   "execution_count": 57,
   "id": "dc3c2331",
   "metadata": {},
   "outputs": [
    {
     "data": {
      "text/plain": [
       "((31, 14, 256), (31, 14, 256))"
      ]
     },
     "execution_count": 57,
     "metadata": {},
     "output_type": "execute_result"
    }
   ],
   "source": [
    "data_epochs_array[0].shape , data_epochs_array[21].shape #2nd -> no. of epochs , 3rd -> channels , 4th -> length of signal"
   ]
  },
  {
   "cell_type": "code",
   "execution_count": 58,
   "id": "dd034f29",
   "metadata": {},
   "outputs": [],
   "source": [
    "def get_quadrant(l):\n",
    "    ret = np.zeros(4 , dtype = float)\n",
    "    idx = 0\n",
    "    if(l[0] == 1):\n",
    "        idx += 1\n",
    "    if(l[1] == 1):\n",
    "        idx += 2\n",
    "    ret[idx] = (float)(1)\n",
    "    return ret"
   ]
  },
  {
   "cell_type": "code",
   "execution_count": 59,
   "id": "858796b1",
   "metadata": {},
   "outputs": [
    {
     "data": {
      "text/plain": [
       "(347200, 256)"
      ]
     },
     "execution_count": 59,
     "metadata": {},
     "output_type": "execute_result"
    }
   ],
   "source": [
    "data_epochs_array = np.array(data_epochs_array)\n",
    "data_epochs_array = data_epochs_array.flatten()\n",
    "data_epochs_array = data_epochs_array.reshape(len(eeg_data) * 31 * 14 , 256)\n",
    "data_epochs_array.shape"
   ]
  },
  {
   "cell_type": "code",
   "execution_count": 60,
   "id": "cbee8e10",
   "metadata": {},
   "outputs": [
    {
     "data": {
      "text/plain": [
       "(347200, 4)"
      ]
     },
     "execution_count": 60,
     "metadata": {},
     "output_type": "execute_result"
    }
   ],
   "source": [
    "label_epochs_array = []\n",
    "for i in range(len(eeg_data)):\n",
    "    for j in range(31):\n",
    "        for k in range(14):\n",
    "            label_epochs_array.append(get_quadrant(labels_enc[i]))\n",
    "            \n",
    "label_epochs_array = np.array(label_epochs_array)\n",
    "label_epochs_array.shape"
   ]
  },
  {
   "cell_type": "code",
   "execution_count": 61,
   "id": "b3bdb0a3",
   "metadata": {},
   "outputs": [
    {
     "data": {
      "text/html": [
       "<div>\n",
       "<style scoped>\n",
       "    .dataframe tbody tr th:only-of-type {\n",
       "        vertical-align: middle;\n",
       "    }\n",
       "\n",
       "    .dataframe tbody tr th {\n",
       "        vertical-align: top;\n",
       "    }\n",
       "\n",
       "    .dataframe thead th {\n",
       "        text-align: right;\n",
       "    }\n",
       "</style>\n",
       "<table border=\"1\" class=\"dataframe\">\n",
       "  <thead>\n",
       "    <tr style=\"text-align: right;\">\n",
       "      <th></th>\n",
       "      <th>LVLA</th>\n",
       "      <th>HVLA</th>\n",
       "      <th>LVHA</th>\n",
       "      <th>HVHA</th>\n",
       "    </tr>\n",
       "  </thead>\n",
       "  <tbody>\n",
       "    <tr>\n",
       "      <th>345200</th>\n",
       "      <td>0.0</td>\n",
       "      <td>0.0</td>\n",
       "      <td>1.0</td>\n",
       "      <td>0.0</td>\n",
       "    </tr>\n",
       "    <tr>\n",
       "      <th>345201</th>\n",
       "      <td>0.0</td>\n",
       "      <td>0.0</td>\n",
       "      <td>1.0</td>\n",
       "      <td>0.0</td>\n",
       "    </tr>\n",
       "    <tr>\n",
       "      <th>345202</th>\n",
       "      <td>0.0</td>\n",
       "      <td>0.0</td>\n",
       "      <td>1.0</td>\n",
       "      <td>0.0</td>\n",
       "    </tr>\n",
       "    <tr>\n",
       "      <th>345203</th>\n",
       "      <td>0.0</td>\n",
       "      <td>0.0</td>\n",
       "      <td>1.0</td>\n",
       "      <td>0.0</td>\n",
       "    </tr>\n",
       "    <tr>\n",
       "      <th>345204</th>\n",
       "      <td>0.0</td>\n",
       "      <td>0.0</td>\n",
       "      <td>1.0</td>\n",
       "      <td>0.0</td>\n",
       "    </tr>\n",
       "    <tr>\n",
       "      <th>...</th>\n",
       "      <td>...</td>\n",
       "      <td>...</td>\n",
       "      <td>...</td>\n",
       "      <td>...</td>\n",
       "    </tr>\n",
       "    <tr>\n",
       "      <th>347195</th>\n",
       "      <td>1.0</td>\n",
       "      <td>0.0</td>\n",
       "      <td>0.0</td>\n",
       "      <td>0.0</td>\n",
       "    </tr>\n",
       "    <tr>\n",
       "      <th>347196</th>\n",
       "      <td>1.0</td>\n",
       "      <td>0.0</td>\n",
       "      <td>0.0</td>\n",
       "      <td>0.0</td>\n",
       "    </tr>\n",
       "    <tr>\n",
       "      <th>347197</th>\n",
       "      <td>1.0</td>\n",
       "      <td>0.0</td>\n",
       "      <td>0.0</td>\n",
       "      <td>0.0</td>\n",
       "    </tr>\n",
       "    <tr>\n",
       "      <th>347198</th>\n",
       "      <td>1.0</td>\n",
       "      <td>0.0</td>\n",
       "      <td>0.0</td>\n",
       "      <td>0.0</td>\n",
       "    </tr>\n",
       "    <tr>\n",
       "      <th>347199</th>\n",
       "      <td>1.0</td>\n",
       "      <td>0.0</td>\n",
       "      <td>0.0</td>\n",
       "      <td>0.0</td>\n",
       "    </tr>\n",
       "  </tbody>\n",
       "</table>\n",
       "<p>2000 rows × 4 columns</p>\n",
       "</div>"
      ],
      "text/plain": [
       "        LVLA  HVLA  LVHA  HVHA\n",
       "345200   0.0   0.0   1.0   0.0\n",
       "345201   0.0   0.0   1.0   0.0\n",
       "345202   0.0   0.0   1.0   0.0\n",
       "345203   0.0   0.0   1.0   0.0\n",
       "345204   0.0   0.0   1.0   0.0\n",
       "...      ...   ...   ...   ...\n",
       "347195   1.0   0.0   0.0   0.0\n",
       "347196   1.0   0.0   0.0   0.0\n",
       "347197   1.0   0.0   0.0   0.0\n",
       "347198   1.0   0.0   0.0   0.0\n",
       "347199   1.0   0.0   0.0   0.0\n",
       "\n",
       "[2000 rows x 4 columns]"
      ]
     },
     "execution_count": 61,
     "metadata": {},
     "output_type": "execute_result"
    }
   ],
   "source": [
    "df = pd.DataFrame(data = label_epochs_array , columns = [\"LVLA\" , \"HVLA\" , \"LVHA\" , \"HVHA\"])\n",
    "df.tail(2000)"
   ]
  },
  {
   "cell_type": "code",
   "execution_count": 62,
   "id": "2dbc4a62",
   "metadata": {},
   "outputs": [
    {
     "data": {
      "text/html": [
       "<div>\n",
       "<style scoped>\n",
       "    .dataframe tbody tr th:only-of-type {\n",
       "        vertical-align: middle;\n",
       "    }\n",
       "\n",
       "    .dataframe tbody tr th {\n",
       "        vertical-align: top;\n",
       "    }\n",
       "\n",
       "    .dataframe thead th {\n",
       "        text-align: right;\n",
       "    }\n",
       "</style>\n",
       "<table border=\"1\" class=\"dataframe\">\n",
       "  <thead>\n",
       "    <tr style=\"text-align: right;\">\n",
       "      <th></th>\n",
       "      <th>Valence</th>\n",
       "      <th>Arousal</th>\n",
       "    </tr>\n",
       "  </thead>\n",
       "  <tbody>\n",
       "    <tr>\n",
       "      <th>0</th>\n",
       "      <td>1.0</td>\n",
       "      <td>1.0</td>\n",
       "    </tr>\n",
       "    <tr>\n",
       "      <th>1</th>\n",
       "      <td>1.0</td>\n",
       "      <td>1.0</td>\n",
       "    </tr>\n",
       "    <tr>\n",
       "      <th>2</th>\n",
       "      <td>1.0</td>\n",
       "      <td>1.0</td>\n",
       "    </tr>\n",
       "    <tr>\n",
       "      <th>3</th>\n",
       "      <td>0.0</td>\n",
       "      <td>1.0</td>\n",
       "    </tr>\n",
       "    <tr>\n",
       "      <th>4</th>\n",
       "      <td>1.0</td>\n",
       "      <td>0.0</td>\n",
       "    </tr>\n",
       "  </tbody>\n",
       "</table>\n",
       "</div>"
      ],
      "text/plain": [
       "   Valence  Arousal\n",
       "0      1.0      1.0\n",
       "1      1.0      1.0\n",
       "2      1.0      1.0\n",
       "3      0.0      1.0\n",
       "4      1.0      0.0"
      ]
     },
     "execution_count": 62,
     "metadata": {},
     "output_type": "execute_result"
    }
   ],
   "source": [
    "df2 = pd.DataFrame(data = labels_enc , columns = [\"Valence\" , \"Arousal\"])\n",
    "df2.head()"
   ]
  },
  {
   "cell_type": "code",
   "execution_count": 63,
   "id": "84c29870",
   "metadata": {},
   "outputs": [
    {
     "data": {
      "text/html": [
       "<div>\n",
       "<style scoped>\n",
       "    .dataframe tbody tr th:only-of-type {\n",
       "        vertical-align: middle;\n",
       "    }\n",
       "\n",
       "    .dataframe tbody tr th {\n",
       "        vertical-align: top;\n",
       "    }\n",
       "\n",
       "    .dataframe thead th {\n",
       "        text-align: right;\n",
       "    }\n",
       "</style>\n",
       "<table border=\"1\" class=\"dataframe\">\n",
       "  <thead>\n",
       "    <tr style=\"text-align: right;\">\n",
       "      <th></th>\n",
       "      <th>Valence</th>\n",
       "      <th>Arousal</th>\n",
       "      <th>D</th>\n",
       "      <th>L</th>\n",
       "    </tr>\n",
       "  </thead>\n",
       "  <tbody>\n",
       "    <tr>\n",
       "      <th>0</th>\n",
       "      <td>7.71</td>\n",
       "      <td>7.60</td>\n",
       "      <td>6.90</td>\n",
       "      <td>7.83</td>\n",
       "    </tr>\n",
       "    <tr>\n",
       "      <th>1</th>\n",
       "      <td>8.10</td>\n",
       "      <td>7.31</td>\n",
       "      <td>7.28</td>\n",
       "      <td>8.47</td>\n",
       "    </tr>\n",
       "    <tr>\n",
       "      <th>2</th>\n",
       "      <td>8.58</td>\n",
       "      <td>7.54</td>\n",
       "      <td>9.00</td>\n",
       "      <td>7.08</td>\n",
       "    </tr>\n",
       "    <tr>\n",
       "      <th>3</th>\n",
       "      <td>4.94</td>\n",
       "      <td>6.01</td>\n",
       "      <td>6.12</td>\n",
       "      <td>8.06</td>\n",
       "    </tr>\n",
       "    <tr>\n",
       "      <th>4</th>\n",
       "      <td>6.96</td>\n",
       "      <td>3.92</td>\n",
       "      <td>7.19</td>\n",
       "      <td>6.05</td>\n",
       "    </tr>\n",
       "  </tbody>\n",
       "</table>\n",
       "</div>"
      ],
      "text/plain": [
       "   Valence  Arousal     D     L\n",
       "0     7.71     7.60  6.90  7.83\n",
       "1     8.10     7.31  7.28  8.47\n",
       "2     8.58     7.54  9.00  7.08\n",
       "3     4.94     6.01  6.12  8.06\n",
       "4     6.96     3.92  7.19  6.05"
      ]
     },
     "execution_count": 63,
     "metadata": {},
     "output_type": "execute_result"
    }
   ],
   "source": [
    "df3 =  pd.DataFrame(data = labels , columns = [\"Valence\" , \"Arousal\" , \"D\" , \"L\"])\n",
    "df3.head()"
   ]
  },
  {
   "cell_type": "code",
   "execution_count": 64,
   "id": "7e5b1e13",
   "metadata": {},
   "outputs": [],
   "source": [
    "from sklearn.model_selection import train_test_split\n",
    "def train_val_test(x , y):\n",
    "    x_train, x_b, y_train, y_b = train_test_split(x,y , random_state=0, train_size = .6)\n",
    "    x_val , x_test , y_val , y_test = train_test_split(x_b , y_b , random_state = 0 , train_size = 0.5)\n",
    "    return x_train , x_val , x_test , y_train , y_val , y_test\n",
    "    \n",
    "    "
   ]
  },
  {
   "cell_type": "code",
   "execution_count": 65,
   "id": "410f7beb",
   "metadata": {},
   "outputs": [],
   "source": [
    "x_train , x_val , x_test , y_train , y_val , y_test = train_val_test(data_epochs_array , label_epochs_array)"
   ]
  },
  {
   "cell_type": "code",
   "execution_count": 66,
   "id": "e51d54b3",
   "metadata": {},
   "outputs": [
    {
     "data": {
      "text/plain": [
       "((208320, 256), (208320, 4))"
      ]
     },
     "execution_count": 66,
     "metadata": {},
     "output_type": "execute_result"
    }
   ],
   "source": [
    "x_train.shape , y_train.shape"
   ]
  },
  {
   "cell_type": "code",
   "execution_count": 67,
   "id": "95a11033",
   "metadata": {},
   "outputs": [
    {
     "data": {
      "text/plain": [
       "((69440, 256), (69440, 4))"
      ]
     },
     "execution_count": 67,
     "metadata": {},
     "output_type": "execute_result"
    }
   ],
   "source": [
    "x_val.shape , y_val.shape"
   ]
  },
  {
   "cell_type": "code",
   "execution_count": 68,
   "id": "351a0adf",
   "metadata": {},
   "outputs": [
    {
     "data": {
      "text/plain": [
       "((69440, 256), (69440, 4))"
      ]
     },
     "execution_count": 68,
     "metadata": {},
     "output_type": "execute_result"
    }
   ],
   "source": [
    "x_test.shape , y_test.shape"
   ]
  },
  {
   "cell_type": "code",
   "execution_count": 24,
   "id": "dbb66263",
   "metadata": {},
   "outputs": [],
   "source": [
    "# import numpy as np\n",
    "# from sklearn.base import TransformerMixin\n",
    "# from sklearn.preprocessing import StandardScaler\n",
    "\n",
    "\n",
    "# class NDStandardScaler(TransformerMixin):\n",
    "#     def __init__(self, **kwargs):\n",
    "#         self._scaler = StandardScaler(copy=True, **kwargs)\n",
    "#         self._orig_shape = None\n",
    "\n",
    "#     def fit(self, X, **kwargs):\n",
    "#         X = np.array(X)\n",
    "#         # Save the original shape to reshape the flattened X later\n",
    "#         # back to its original shape\n",
    "#         if len(X.shape) > 1:\n",
    "#             self._orig_shape = X.shape[1:]\n",
    "#         X = self._flatten(X)\n",
    "#         self._scaler.fit(X, **kwargs)\n",
    "#         return self\n",
    "\n",
    "#     def transform(self, X, **kwargs):\n",
    "#         X = np.array(X)\n",
    "#         X = self._flatten(X)\n",
    "#         X = self._scaler.transform(X, **kwargs)\n",
    "#         X = self._reshape(X)\n",
    "#         return X\n",
    "\n",
    "#     def _flatten(self, X):\n",
    "#         # Reshape X to <= 2 dimensions\n",
    "#         if len(X.shape) > 2:\n",
    "#             n_dims = np.prod(self._orig_shape)\n",
    "#             X = X.reshape(-1, n_dims)\n",
    "#         return X\n",
    "\n",
    "#     def _reshape(self, X):\n",
    "#         # Reshape X back to it's original shape\n",
    "#         if len(X.shape) >= 2:\n",
    "#             X = X.reshape(-1, *self._orig_shape)\n",
    "#         return X"
   ]
  },
  {
   "cell_type": "code",
   "execution_count": 25,
   "id": "17f10bd7",
   "metadata": {},
   "outputs": [],
   "source": [
    "# scaler = NDStandardScaler()\n",
    "# x_s_train = scaler.fit_transform(x_train)\n",
    "# x_s_val = scaler.transform(x_val)\n",
    "# x_s_test = scaler.transform(x_test)\n"
   ]
  },
  {
   "cell_type": "code",
   "execution_count": 69,
   "id": "bc15dc41",
   "metadata": {},
   "outputs": [],
   "source": [
    "from numpy import asarray\n",
    "from sklearn.preprocessing import MinMaxScaler\n",
    "\n",
    "to_scale = asarray(x_train)\n",
    "scaler = MinMaxScaler()\n",
    "# transform data\n",
    "x_1s_train = scaler.fit_transform(x_train)\n",
    "x_1s_val = scaler.transform(x_val)\n",
    "x_1s_test = scaler.transform(x_test)"
   ]
  },
  {
   "cell_type": "code",
   "execution_count": 70,
   "id": "63dc89a7",
   "metadata": {},
   "outputs": [],
   "source": [
    "from sklearn.preprocessing import StandardScaler\n",
    "\n",
    "scaler = StandardScaler()\n",
    "x_s_train = scaler.fit_transform(x_1s_train)\n",
    "x_s_val = scaler.transform(x_1s_val)\n",
    "x_s_test = scaler.transform(x_1s_test)"
   ]
  },
  {
   "cell_type": "code",
   "execution_count": 71,
   "id": "42e2014e",
   "metadata": {},
   "outputs": [],
   "source": [
    "x_s_train = x_s_train.reshape(208320, 256 , 1)"
   ]
  },
  {
   "cell_type": "code",
   "execution_count": 72,
   "id": "8de9e940",
   "metadata": {},
   "outputs": [],
   "source": [
    "x_s_val = x_s_val.reshape(69440, 256 , 1)"
   ]
  },
  {
   "cell_type": "code",
   "execution_count": 73,
   "id": "4121d6d3",
   "metadata": {},
   "outputs": [],
   "source": [
    "x_s_test = x_s_test.reshape(69440, 256 , 1)"
   ]
  },
  {
   "cell_type": "code",
   "execution_count": 74,
   "id": "a1bd72da",
   "metadata": {},
   "outputs": [],
   "source": [
    "from tensorflow.keras.layers import Input,Dense,concatenate,Flatten,LSTM,Conv1D,MaxPooling1D , Dropout , GRU\n",
    "from tensorflow.keras.models import Model , Sequential"
   ]
  },
  {
   "cell_type": "code",
   "execution_count": 32,
   "id": "168d6cf3",
   "metadata": {},
   "outputs": [],
   "source": [
    "#inut= Input(shape=(256,1))\n",
    "# conv1 = Conv1D(128 , 3 , activation='relu')(input)\n",
    "# pool1 = MaxPooling1D(pool_size=2)(conv1)\n",
    "# d1 = Dropout(rate = 0.2)(pool1)\n",
    "\n",
    "# conv2 = Conv1D(128 , 3 , activation='relu')(d1)\n",
    "# pool2 = MaxPooling1D(pool_size=2)(conv2)\n",
    "# d2 = Dropout(rate = 0.2)(pool2)\n",
    "\n",
    "# concatenate([inut , conv1 , pool1 , d1 , conv2 , pool2 , d2])"
   ]
  },
  {
   "cell_type": "code",
   "execution_count": 33,
   "id": "49a53bb5",
   "metadata": {},
   "outputs": [],
   "source": [
    "# lstm1 = LSTM(256 , return_sequences = True)(d2)\n",
    "# d3 = Dropout(rate = 0.2)(lstm1)\n",
    "# lstm2 = LSTM(32)(d3)\n",
    "# d4 = Dropout(rate = 0.2)(lstm2)\n",
    "# op = concatenate([lstm1 , d3 , lstm2 , d4])\n"
   ]
  },
  {
   "cell_type": "code",
   "execution_count": 34,
   "id": "2eae18b5",
   "metadata": {},
   "outputs": [
    {
     "name": "stderr",
     "output_type": "stream",
     "text": [
      "2022-12-07 12:17:10.011937: I tensorflow/core/platform/cpu_feature_guard.cc:193] This TensorFlow binary is optimized with oneAPI Deep Neural Network Library (oneDNN) to use the following CPU instructions in performance-critical operations:  SSE4.1 SSE4.2\n",
      "To enable them in other operations, rebuild TensorFlow with the appropriate compiler flags.\n"
     ]
    }
   ],
   "source": [
    "# model = Sequential()\n",
    "# model.add(Input(shape=(256,1)))\n",
    "# model.add(Conv1D(128 , 3 , activation='relu'))\n",
    "# model.add(MaxPooling1D(pool_size=2))\n",
    "# model.add(Dropout(rate = 0.2))\n",
    "# model.add(Conv1D(128 , 3 , activation='relu'))\n",
    "# model.add(MaxPooling1D(pool_size=2))\n",
    "# model.add(Dropout(rate = 0.2))\n",
    "# model.add(LSTM(256 , return_sequences = True))\n",
    "# model.add(Dropout(rate = 0.2))\n",
    "# model.add(LSTM(32))\n",
    "# model.add(Dropout(rate = 0.2))\n",
    "# model.add(Flatten())\n",
    "# model.add(Dense(128 , activation='relu'))\n",
    "# model.add(Dense(4 , activation='softmax'))\n",
    "\n"
   ]
  },
  {
   "cell_type": "code",
   "execution_count": 35,
   "id": "5041a92b",
   "metadata": {},
   "outputs": [],
   "source": [
    "# model.compile(optimizer = 'adam', loss = 'categorical_crossentropy', metrics=['accuracy'])"
   ]
  },
  {
   "cell_type": "code",
   "execution_count": 36,
   "id": "138e2b5e",
   "metadata": {},
   "outputs": [
    {
     "name": "stdout",
     "output_type": "stream",
     "text": [
      "Model: \"sequential\"\n",
      "_________________________________________________________________\n",
      " Layer (type)                Output Shape              Param #   \n",
      "=================================================================\n",
      " conv1d (Conv1D)             (None, 254, 128)          512       \n",
      "                                                                 \n",
      " max_pooling1d (MaxPooling1D  (None, 127, 128)         0         \n",
      " )                                                               \n",
      "                                                                 \n",
      " dropout (Dropout)           (None, 127, 128)          0         \n",
      "                                                                 \n",
      " conv1d_1 (Conv1D)           (None, 125, 128)          49280     \n",
      "                                                                 \n",
      " max_pooling1d_1 (MaxPooling  (None, 62, 128)          0         \n",
      " 1D)                                                             \n",
      "                                                                 \n",
      " dropout_1 (Dropout)         (None, 62, 128)           0         \n",
      "                                                                 \n",
      " lstm (LSTM)                 (None, 62, 256)           394240    \n",
      "                                                                 \n",
      " dropout_2 (Dropout)         (None, 62, 256)           0         \n",
      "                                                                 \n",
      " lstm_1 (LSTM)               (None, 32)                36992     \n",
      "                                                                 \n",
      " dropout_3 (Dropout)         (None, 32)                0         \n",
      "                                                                 \n",
      " flatten (Flatten)           (None, 32)                0         \n",
      "                                                                 \n",
      " dense (Dense)               (None, 128)               4224      \n",
      "                                                                 \n",
      " dense_1 (Dense)             (None, 4)                 516       \n",
      "                                                                 \n",
      "=================================================================\n",
      "Total params: 485,764\n",
      "Trainable params: 485,764\n",
      "Non-trainable params: 0\n",
      "_________________________________________________________________\n"
     ]
    }
   ],
   "source": [
    "# model.summary()"
   ]
  },
  {
   "cell_type": "code",
   "execution_count": null,
   "id": "d8e65910",
   "metadata": {},
   "outputs": [
    {
     "name": "stdout",
     "output_type": "stream",
     "text": [
      "Epoch 1/3\n",
      "6510/6510 [==============================] - 1427s 219ms/step - loss: 1.3694 - accuracy: 0.3276 - val_loss: 1.3667 - val_accuracy: 0.3294\n",
      "Epoch 2/3\n",
      "1810/6510 [=======>......................] - ETA: 24:42 - loss: 1.3677 - accuracy: 0.3292"
     ]
    }
   ],
   "source": [
    "# model.fit(x_s_train , y_train , epochs = 3 , validation_data = (x_s_val , y_val))"
   ]
  },
  {
   "cell_type": "code",
   "execution_count": 75,
   "id": "f2b4df14",
   "metadata": {},
   "outputs": [],
   "source": [
    "def block(input):\n",
    "  conv1 = Conv1D(32, 2, strides=2,activation='relu',padding=\"same\")(input)\n",
    "  conv2 = Conv1D(32, 4, strides=2,activation='relu',padding=\"causal\")(input)\n",
    "  conv3 = Conv1D(32, 8, strides=2,activation='relu',padding=\"causal\")(input)\n",
    "  x = concatenate([conv1,conv2,conv3],axis=2)\n",
    "  return x"
   ]
  },
  {
   "cell_type": "code",
   "execution_count": 76,
   "id": "0d2e2e19",
   "metadata": {},
   "outputs": [],
   "source": [
    "input= Input(shape=(256,1))\n",
    "block1=block(input)\n",
    "block2=block(block1)\n",
    "block3=block(block2)"
   ]
  },
  {
   "cell_type": "code",
   "execution_count": 77,
   "id": "090962d8",
   "metadata": {},
   "outputs": [],
   "source": [
    "gru_out1 = GRU(32,activation='tanh',return_sequences=True)(block3)\n",
    "gru_out2 = GRU(32,activation='tanh',return_sequences=True)(gru_out1)\n",
    "gru_out = concatenate([gru_out1,gru_out2],axis=2)\n",
    "gru_out3 = GRU(32,activation='tanh',return_sequences=True)(gru_out)\n",
    "gru_out = concatenate([gru_out1,gru_out2,gru_out3])\n",
    "gru_out4 = GRU(32,activation='tanh')(gru_out)"
   ]
  },
  {
   "cell_type": "code",
   "execution_count": 78,
   "id": "d81f5cb5",
   "metadata": {},
   "outputs": [],
   "source": [
    "predictions = Dense(1,activation='sigmoid')(gru_out4)\n",
    "model = Model(inputs=input, outputs=predictions)\n",
    "\n",
    "model.compile(optimizer = 'adam', loss = 'binary_crossentropy', metrics=['accuracy'])\n"
   ]
  },
  {
   "cell_type": "code",
   "execution_count": 79,
   "id": "81a8083d",
   "metadata": {},
   "outputs": [
    {
     "name": "stdout",
     "output_type": "stream",
     "text": [
      "Model: \"model_1\"\n",
      "__________________________________________________________________________________________________\n",
      " Layer (type)                   Output Shape         Param #     Connected to                     \n",
      "==================================================================================================\n",
      " input_3 (InputLayer)           [(None, 256, 1)]     0           []                               \n",
      "                                                                                                  \n",
      " conv1d_11 (Conv1D)             (None, 128, 32)      96          ['input_3[0][0]']                \n",
      "                                                                                                  \n",
      " conv1d_12 (Conv1D)             (None, 128, 32)      160         ['input_3[0][0]']                \n",
      "                                                                                                  \n",
      " conv1d_13 (Conv1D)             (None, 128, 32)      288         ['input_3[0][0]']                \n",
      "                                                                                                  \n",
      " concatenate_5 (Concatenate)    (None, 128, 96)      0           ['conv1d_11[0][0]',              \n",
      "                                                                  'conv1d_12[0][0]',              \n",
      "                                                                  'conv1d_13[0][0]']              \n",
      "                                                                                                  \n",
      " conv1d_14 (Conv1D)             (None, 64, 32)       6176        ['concatenate_5[0][0]']          \n",
      "                                                                                                  \n",
      " conv1d_15 (Conv1D)             (None, 64, 32)       12320       ['concatenate_5[0][0]']          \n",
      "                                                                                                  \n",
      " conv1d_16 (Conv1D)             (None, 64, 32)       24608       ['concatenate_5[0][0]']          \n",
      "                                                                                                  \n",
      " concatenate_6 (Concatenate)    (None, 64, 96)       0           ['conv1d_14[0][0]',              \n",
      "                                                                  'conv1d_15[0][0]',              \n",
      "                                                                  'conv1d_16[0][0]']              \n",
      "                                                                                                  \n",
      " conv1d_17 (Conv1D)             (None, 32, 32)       6176        ['concatenate_6[0][0]']          \n",
      "                                                                                                  \n",
      " conv1d_18 (Conv1D)             (None, 32, 32)       12320       ['concatenate_6[0][0]']          \n",
      "                                                                                                  \n",
      " conv1d_19 (Conv1D)             (None, 32, 32)       24608       ['concatenate_6[0][0]']          \n",
      "                                                                                                  \n",
      " concatenate_7 (Concatenate)    (None, 32, 96)       0           ['conv1d_17[0][0]',              \n",
      "                                                                  'conv1d_18[0][0]',              \n",
      "                                                                  'conv1d_19[0][0]']              \n",
      "                                                                                                  \n",
      " gru_4 (GRU)                    (None, 32, 32)       12480       ['concatenate_7[0][0]']          \n",
      "                                                                                                  \n",
      " gru_5 (GRU)                    (None, 32, 32)       6336        ['gru_4[0][0]']                  \n",
      "                                                                                                  \n",
      " concatenate_8 (Concatenate)    (None, 32, 64)       0           ['gru_4[0][0]',                  \n",
      "                                                                  'gru_5[0][0]']                  \n",
      "                                                                                                  \n",
      " gru_6 (GRU)                    (None, 32, 32)       9408        ['concatenate_8[0][0]']          \n",
      "                                                                                                  \n",
      " concatenate_9 (Concatenate)    (None, 32, 96)       0           ['gru_4[0][0]',                  \n",
      "                                                                  'gru_5[0][0]',                  \n",
      "                                                                  'gru_6[0][0]']                  \n",
      "                                                                                                  \n",
      " gru_7 (GRU)                    (None, 32)           12480       ['concatenate_9[0][0]']          \n",
      "                                                                                                  \n",
      " dense_3 (Dense)                (None, 1)            33          ['gru_7[0][0]']                  \n",
      "                                                                                                  \n",
      "==================================================================================================\n",
      "Total params: 127,489\n",
      "Trainable params: 127,489\n",
      "Non-trainable params: 0\n",
      "__________________________________________________________________________________________________\n"
     ]
    }
   ],
   "source": [
    "model.summary()"
   ]
  },
  {
   "cell_type": "code",
   "execution_count": 80,
   "id": "7cbfa9f4",
   "metadata": {},
   "outputs": [
    {
     "name": "stdout",
     "output_type": "stream",
     "text": [
      "Epoch 1/30\n",
      "1628/1628 [==============================] - 160s 94ms/step - loss: 0.5227 - accuracy: 0.7831 - val_loss: 0.5237 - val_accuracy: 0.7810\n",
      "Epoch 2/30\n",
      "1628/1628 [==============================] - 162s 100ms/step - loss: 0.5207 - accuracy: 0.7831 - val_loss: 0.5227 - val_accuracy: 0.7810\n",
      "Epoch 3/30\n",
      "1628/1628 [==============================] - 160s 98ms/step - loss: 0.5190 - accuracy: 0.7831 - val_loss: 0.5217 - val_accuracy: 0.7810\n",
      "Epoch 4/30\n",
      "1628/1628 [==============================] - 163s 100ms/step - loss: 0.5162 - accuracy: 0.7833 - val_loss: 0.5193 - val_accuracy: 0.7811\n",
      "Epoch 5/30\n",
      "1628/1628 [==============================] - 162s 100ms/step - loss: 0.5111 - accuracy: 0.7849 - val_loss: 0.5167 - val_accuracy: 0.7820\n",
      "Epoch 6/30\n",
      "1628/1628 [==============================] - 171s 105ms/step - loss: 0.5041 - accuracy: 0.7876 - val_loss: 0.5157 - val_accuracy: 0.7829\n",
      "Epoch 7/30\n",
      "1628/1628 [==============================] - 168s 103ms/step - loss: 0.4959 - accuracy: 0.7906 - val_loss: 0.5135 - val_accuracy: 0.7834\n",
      "Epoch 8/30\n",
      "1628/1628 [==============================] - 163s 100ms/step - loss: 0.4869 - accuracy: 0.7947 - val_loss: 0.5151 - val_accuracy: 0.7838\n",
      "Epoch 9/30\n",
      "1628/1628 [==============================] - 171s 105ms/step - loss: 0.4774 - accuracy: 0.7986 - val_loss: 0.5153 - val_accuracy: 0.7826\n",
      "Epoch 10/30\n",
      "1628/1628 [==============================] - 165s 101ms/step - loss: 0.4688 - accuracy: 0.8020 - val_loss: 0.5222 - val_accuracy: 0.7808\n",
      "Epoch 11/30\n",
      "1628/1628 [==============================] - 169s 104ms/step - loss: 0.4610 - accuracy: 0.8051 - val_loss: 0.5189 - val_accuracy: 0.7806\n",
      "Epoch 12/30\n",
      "1628/1628 [==============================] - 166s 102ms/step - loss: 0.4527 - accuracy: 0.8082 - val_loss: 0.5237 - val_accuracy: 0.7792\n",
      "Epoch 13/30\n",
      "1628/1628 [==============================] - 171s 105ms/step - loss: 0.4450 - accuracy: 0.8120 - val_loss: 0.5327 - val_accuracy: 0.7807\n",
      "Epoch 14/30\n",
      "1628/1628 [==============================] - 184s 113ms/step - loss: 0.4379 - accuracy: 0.8147 - val_loss: 0.5286 - val_accuracy: 0.7805\n",
      "Epoch 15/30\n",
      "1628/1628 [==============================] - 171s 105ms/step - loss: 0.4303 - accuracy: 0.8177 - val_loss: 0.5384 - val_accuracy: 0.7782\n",
      "Epoch 16/30\n",
      "1628/1628 [==============================] - 166s 102ms/step - loss: 0.4234 - accuracy: 0.8204 - val_loss: 0.5427 - val_accuracy: 0.7805\n",
      "Epoch 17/30\n",
      "1628/1628 [==============================] - 166s 102ms/step - loss: 0.4158 - accuracy: 0.8240 - val_loss: 0.5519 - val_accuracy: 0.7768\n",
      "Epoch 18/30\n",
      "1628/1628 [==============================] - 167s 102ms/step - loss: 0.4108 - accuracy: 0.8256 - val_loss: 0.5581 - val_accuracy: 0.7796\n",
      "Epoch 19/30\n",
      "1628/1628 [==============================] - 169s 104ms/step - loss: 0.4024 - accuracy: 0.8296 - val_loss: 0.5675 - val_accuracy: 0.7759\n",
      "Epoch 20/30\n",
      "1628/1628 [==============================] - 168s 103ms/step - loss: 0.3972 - accuracy: 0.8313 - val_loss: 0.5718 - val_accuracy: 0.7724\n",
      "Epoch 21/30\n",
      "1628/1628 [==============================] - 167s 103ms/step - loss: 0.3918 - accuracy: 0.8339 - val_loss: 0.5734 - val_accuracy: 0.7734\n",
      "Epoch 22/30\n",
      "1628/1628 [==============================] - 167s 103ms/step - loss: 0.3862 - accuracy: 0.8364 - val_loss: 0.5866 - val_accuracy: 0.7717\n",
      "Epoch 23/30\n",
      "1628/1628 [==============================] - 170s 104ms/step - loss: 0.3811 - accuracy: 0.8381 - val_loss: 0.5929 - val_accuracy: 0.7718\n",
      "Epoch 24/30\n",
      "1628/1628 [==============================] - 178s 109ms/step - loss: 0.3756 - accuracy: 0.8402 - val_loss: 0.6044 - val_accuracy: 0.7721\n",
      "Epoch 25/30\n",
      "1628/1628 [==============================] - 171s 105ms/step - loss: 0.3712 - accuracy: 0.8426 - val_loss: 0.6033 - val_accuracy: 0.7679\n",
      "Epoch 26/30\n",
      "1628/1628 [==============================] - 172s 106ms/step - loss: 0.3653 - accuracy: 0.8454 - val_loss: 0.6335 - val_accuracy: 0.7636\n",
      "Epoch 27/30\n",
      "1628/1628 [==============================] - 169s 104ms/step - loss: 0.3608 - accuracy: 0.8472 - val_loss: 0.6301 - val_accuracy: 0.7652\n",
      "Epoch 28/30\n",
      "1628/1628 [==============================] - 170s 104ms/step - loss: 0.3561 - accuracy: 0.8487 - val_loss: 0.6409 - val_accuracy: 0.7669\n",
      "Epoch 29/30\n",
      "1628/1628 [==============================] - 212s 130ms/step - loss: 0.3519 - accuracy: 0.8503 - val_loss: 0.6474 - val_accuracy: 0.7634\n",
      "Epoch 30/30\n",
      "1628/1628 [==============================] - 211s 130ms/step - loss: 0.3474 - accuracy: 0.8520 - val_loss: 0.6590 - val_accuracy: 0.7652\n"
     ]
    },
    {
     "data": {
      "text/plain": [
       "<keras.callbacks.History at 0x7fe3b6d71ac0>"
      ]
     },
     "execution_count": 80,
     "metadata": {},
     "output_type": "execute_result"
    }
   ],
   "source": [
    "model.fit(x_s_train , y_train[:,0] , epochs=30 , batch_size=128 , validation_data=(x_s_val , y_val[:,0]))"
   ]
  },
  {
   "cell_type": "code",
   "execution_count": 81,
   "id": "51550f37",
   "metadata": {},
   "outputs": [
    {
     "name": "stdout",
     "output_type": "stream",
     "text": [
      "543/543 [==============================] - 14s 26ms/step - loss: 0.6582 - accuracy: 0.7655\n",
      "test loss, test acc: [0.6582221984863281, 0.7654522061347961]\n"
     ]
    }
   ],
   "source": [
    "results = model.evaluate(x_s_test, y_test[:,0], batch_size=128)\n",
    "print(\"test loss, test acc:\", results)"
   ]
  }
 ],
 "metadata": {
  "kernelspec": {
   "display_name": "Python 3 (ipykernel)",
   "language": "python",
   "name": "python3"
  },
  "language_info": {
   "codemirror_mode": {
    "name": "ipython",
    "version": 3
   },
   "file_extension": ".py",
   "mimetype": "text/x-python",
   "name": "python",
   "nbconvert_exporter": "python",
   "pygments_lexer": "ipython3",
   "version": "3.9.15"
  }
 },
 "nbformat": 4,
 "nbformat_minor": 5
}
